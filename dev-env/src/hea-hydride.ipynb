{
 "cells": [
  {
   "cell_type": "code",
   "execution_count": 2,
   "metadata": {},
   "outputs": [
    {
     "ename": "ValueError",
     "evalue": "numpy.dtype size changed, may indicate binary incompatibility. Expected 96 from C header, got 88 from PyObject",
     "output_type": "error",
     "traceback": [
      "\u001b[0;31m---------------------------------------------------------------------------\u001b[0m",
      "\u001b[0;31mValueError\u001b[0m                                Traceback (most recent call last)",
      "Cell \u001b[0;32mIn[2], line 2\u001b[0m\n\u001b[1;32m      1\u001b[0m \u001b[38;5;28;01mimport\u001b[39;00m \u001b[38;5;21;01mpandas\u001b[39;00m \u001b[38;5;28;01mas\u001b[39;00m \u001b[38;5;21;01mpd\u001b[39;00m\n\u001b[0;32m----> 2\u001b[0m \u001b[38;5;28;01mfrom\u001b[39;00m \u001b[38;5;21;01mpymatgen\u001b[39;00m\u001b[38;5;21;01m.\u001b[39;00m\u001b[38;5;21;01mcore\u001b[39;00m \u001b[38;5;28;01mimport\u001b[39;00m Composition, Element\n\u001b[1;32m      3\u001b[0m \u001b[38;5;28;01mimport\u001b[39;00m \u001b[38;5;21;01mnumpy\u001b[39;00m \u001b[38;5;28;01mas\u001b[39;00m \u001b[38;5;21;01mnp\u001b[39;00m\n\u001b[1;32m      4\u001b[0m \u001b[38;5;28;01mfrom\u001b[39;00m \u001b[38;5;21;01msklearn\u001b[39;00m\u001b[38;5;21;01m.\u001b[39;00m\u001b[38;5;21;01mdecomposition\u001b[39;00m \u001b[38;5;28;01mimport\u001b[39;00m PCA\n",
      "File \u001b[0;32m/workspaces/codespaces-jupyter/.venv/lib/python3.10/site-packages/pymatgen/core/__init__.py:11\u001b[0m\n\u001b[1;32m      8\u001b[0m \u001b[38;5;28;01mfrom\u001b[39;00m \u001b[38;5;21;01mtyping\u001b[39;00m \u001b[38;5;28;01mimport\u001b[39;00m Any\n\u001b[1;32m     10\u001b[0m \u001b[38;5;28;01mfrom\u001b[39;00m \u001b[38;5;21;01mpymatgen\u001b[39;00m\u001b[38;5;21;01m.\u001b[39;00m\u001b[38;5;21;01mcore\u001b[39;00m\u001b[38;5;21;01m.\u001b[39;00m\u001b[38;5;21;01mcomposition\u001b[39;00m \u001b[38;5;28;01mimport\u001b[39;00m Composition\n\u001b[0;32m---> 11\u001b[0m \u001b[38;5;28;01mfrom\u001b[39;00m \u001b[38;5;21;01mpymatgen\u001b[39;00m\u001b[38;5;21;01m.\u001b[39;00m\u001b[38;5;21;01mcore\u001b[39;00m\u001b[38;5;21;01m.\u001b[39;00m\u001b[38;5;21;01mlattice\u001b[39;00m \u001b[38;5;28;01mimport\u001b[39;00m Lattice\n\u001b[1;32m     12\u001b[0m \u001b[38;5;28;01mfrom\u001b[39;00m \u001b[38;5;21;01mpymatgen\u001b[39;00m\u001b[38;5;21;01m.\u001b[39;00m\u001b[38;5;21;01mcore\u001b[39;00m\u001b[38;5;21;01m.\u001b[39;00m\u001b[38;5;21;01moperations\u001b[39;00m \u001b[38;5;28;01mimport\u001b[39;00m SymmOp\n\u001b[1;32m     13\u001b[0m \u001b[38;5;28;01mfrom\u001b[39;00m \u001b[38;5;21;01mpymatgen\u001b[39;00m\u001b[38;5;21;01m.\u001b[39;00m\u001b[38;5;21;01mcore\u001b[39;00m\u001b[38;5;21;01m.\u001b[39;00m\u001b[38;5;21;01mperiodic_table\u001b[39;00m \u001b[38;5;28;01mimport\u001b[39;00m DummySpecie, DummySpecies, Element, Species, get_el_sp\n",
      "File \u001b[0;32m/workspaces/codespaces-jupyter/.venv/lib/python3.10/site-packages/pymatgen/core/lattice.py:19\u001b[0m\n\u001b[1;32m     17\u001b[0m \u001b[38;5;28;01mfrom\u001b[39;00m \u001b[38;5;21;01mmonty\u001b[39;00m\u001b[38;5;21;01m.\u001b[39;00m\u001b[38;5;21;01mdev\u001b[39;00m \u001b[38;5;28;01mimport\u001b[39;00m deprecated\n\u001b[1;32m     18\u001b[0m \u001b[38;5;28;01mfrom\u001b[39;00m \u001b[38;5;21;01mmonty\u001b[39;00m\u001b[38;5;21;01m.\u001b[39;00m\u001b[38;5;21;01mjson\u001b[39;00m \u001b[38;5;28;01mimport\u001b[39;00m MSONable\n\u001b[0;32m---> 19\u001b[0m \u001b[38;5;28;01mfrom\u001b[39;00m \u001b[38;5;21;01mpymatgen\u001b[39;00m\u001b[38;5;21;01m.\u001b[39;00m\u001b[38;5;21;01mutil\u001b[39;00m\u001b[38;5;21;01m.\u001b[39;00m\u001b[38;5;21;01mcoord\u001b[39;00m \u001b[38;5;28;01mimport\u001b[39;00m pbc_shortest_vectors\n\u001b[1;32m     20\u001b[0m \u001b[38;5;28;01mfrom\u001b[39;00m \u001b[38;5;21;01mpymatgen\u001b[39;00m\u001b[38;5;21;01m.\u001b[39;00m\u001b[38;5;21;01mutil\u001b[39;00m\u001b[38;5;21;01m.\u001b[39;00m\u001b[38;5;21;01mdue\u001b[39;00m \u001b[38;5;28;01mimport\u001b[39;00m Doi, due\n\u001b[1;32m     21\u001b[0m \u001b[38;5;28;01mfrom\u001b[39;00m \u001b[38;5;21;01mscipy\u001b[39;00m\u001b[38;5;21;01m.\u001b[39;00m\u001b[38;5;21;01mspatial\u001b[39;00m \u001b[38;5;28;01mimport\u001b[39;00m Voronoi\n",
      "File \u001b[0;32m/workspaces/codespaces-jupyter/.venv/lib/python3.10/site-packages/pymatgen/util/coord.py:14\u001b[0m\n\u001b[1;32m     12\u001b[0m \u001b[38;5;28;01mimport\u001b[39;00m \u001b[38;5;21;01mnumpy\u001b[39;00m \u001b[38;5;28;01mas\u001b[39;00m \u001b[38;5;21;01mnp\u001b[39;00m\n\u001b[1;32m     13\u001b[0m \u001b[38;5;28;01mfrom\u001b[39;00m \u001b[38;5;21;01mmonty\u001b[39;00m\u001b[38;5;21;01m.\u001b[39;00m\u001b[38;5;21;01mjson\u001b[39;00m \u001b[38;5;28;01mimport\u001b[39;00m MSONable\n\u001b[0;32m---> 14\u001b[0m \u001b[38;5;28;01mfrom\u001b[39;00m \u001b[38;5;21;01mpymatgen\u001b[39;00m\u001b[38;5;21;01m.\u001b[39;00m\u001b[38;5;21;01mutil\u001b[39;00m \u001b[38;5;28;01mimport\u001b[39;00m coord_cython\n\u001b[1;32m     16\u001b[0m \u001b[38;5;28;01mif\u001b[39;00m TYPE_CHECKING:\n\u001b[1;32m     17\u001b[0m     \u001b[38;5;28;01mfrom\u001b[39;00m \u001b[38;5;21;01mcollections\u001b[39;00m\u001b[38;5;21;01m.\u001b[39;00m\u001b[38;5;21;01mabc\u001b[39;00m \u001b[38;5;28;01mimport\u001b[39;00m Sequence\n",
      "File \u001b[0;32msrc/pymatgen/util/coord_cython.pyx:1\u001b[0m, in \u001b[0;36minit pymatgen.util.coord_cython\u001b[0;34m()\u001b[0m\n",
      "\u001b[0;31mValueError\u001b[0m: numpy.dtype size changed, may indicate binary incompatibility. Expected 96 from C header, got 88 from PyObject"
     ]
    }
   ],
   "source": [
    "import pandas as pd\n",
    "from pymatgen.core import Composition, Element\n",
    "import numpy as np\n",
    "from sklearn.decomposition import PCA\n",
    "from sklearn.preprocessing import StandardScaler\n",
    "from sklearn.impute import KNNImputer\n",
    "\n",
    "data = pd.read_csv(\"data/hydrogen_database.csv\")\n",
    "\n",
    "# Function to parse composition formula and create a weighted feature vector for each property\n",
    "def featurize_composition(formula):\n",
    "    comp = Composition(formula)\n",
    "    properties = {\n",
    "        'atomic_mass': [],\n",
    "        'atomic_radius': [],\n",
    "        'melting_point': []\n",
    "    }\n",
    "    \n",
    "    element_stoichiometry = {}\n",
    "    total_weight = sum(comp.get_atomic_fraction(e) * e.atomic_mass for e in comp.elements)\n",
    "\n",
    "    for element in comp.elements:\n",
    "        element_stoichiometry[element.symbol] = comp.get_atomic_fraction(element)\n",
    "        weight = comp.get_atomic_fraction(element) * element.atomic_mass / total_weight\n",
    "        for prop in properties:\n",
    "            value = getattr(element, prop, np.nan)\n",
    "            properties[prop].append(value * weight)\n",
    "    \n",
    "    feature_vector = {f'{prop}_weighted': sum(properties[prop]) for prop in properties}\n",
    "    feature_vector.update(element_stoichiometry)\n",
    "\n",
    "    return feature_vector\n",
    "\n",
    "data['features'] = data['Composition_Formula'].apply(featurize_composition)\n",
    "\n",
    "features_df = pd.DataFrame(data['features'].tolist())\n",
    "data = pd.concat([data, features_df], axis=1)\n",
    "data.drop(columns=['features'], inplace=True)\n",
    "\n",
    "keep_columns = [\n",
    "    'Material_Class', 'Composition_Formula', 'Hydrogen_Weight_Percent',\n",
    "    'Heat_of_Formation_kJperMolH2', 'Temperature_oC', 'Pressure_Atmospheres_Absolute',\n",
    "    'Entropy_of_Formation_JperMolH2perK', 'Equilibrium_Pressure_25C', 'LnEquilibrium_Pressure_25C',\n",
    "    'HtoM', 'Reference', 'atomic_mass_weighted', 'atomic_radius_weighted', 'melting_point_weighted'\n",
    "]\n",
    "\n",
    "elemental_columns = [col for col in data.columns if col not in keep_columns and not col.startswith('PC')]\n",
    "\n",
    "data[elemental_columns] = data[elemental_columns].fillna(0)\n",
    "\n",
    "# Standardize the elemental columns for PCA\n",
    "scaler = StandardScaler()\n",
    "elemental_features_scaled = scaler.fit_transform(data[elemental_columns])\n",
    "\n",
    "# Apply PCA\n",
    "pca = PCA(n_components=3) #This is currently hardcoded- need to justify the no. of principal components\n",
    "principal_components = pca.fit_transform(elemental_features_scaled)\n",
    "principal_df = pd.DataFrame(data=principal_components, columns=[f'PC{i+1}' for i in range(3)])\n",
    "\n",
    "data = pd.concat([data, principal_df], axis=1)\n",
    "\n",
    "data.drop(columns=elemental_columns, inplace=True)\n",
    "\n",
    "data.drop('Reference', axis=1, inplace=True)"
   ]
  },
  {
   "cell_type": "code",
   "execution_count": null,
   "metadata": {},
   "outputs": [],
   "source": [
    "# Impute remaining missing values using KNN\n",
    "knn_imputer = KNNImputer(n_neighbors=5)  # Hardcoded- need to justify the choice\n",
    "data_imputed = knn_imputer.fit_transform(data.select_dtypes(include=[np.number]))\n",
    "data[data.select_dtypes(include=[np.number]).columns] = data_imputed\n",
    "\n",
    "data.to_csv(\"PCA_KNN_imputed_hea.csv\", index=False)"
   ]
  }
 ],
 "metadata": {
  "kernelspec": {
   "display_name": ".venv",
   "language": "python",
   "name": "python3"
  },
  "language_info": {
   "codemirror_mode": {
    "name": "ipython",
    "version": 3
   },
   "file_extension": ".py",
   "mimetype": "text/x-python",
   "name": "python",
   "nbconvert_exporter": "python",
   "pygments_lexer": "ipython3",
   "version": "3.10.13"
  }
 },
 "nbformat": 4,
 "nbformat_minor": 2
}
