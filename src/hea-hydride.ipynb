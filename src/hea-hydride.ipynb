{
 "cells": [
  {
   "cell_type": "code",
   "execution_count": null,
   "metadata": {},
   "outputs": [
    {
     "ename": "",
     "evalue": "",
     "output_type": "error",
     "traceback": [
      "\u001b[1;31mRunning cells with 'Python 3.9.19' requires the ipykernel package.\n",
      "\u001b[1;31mRun the following command to install 'ipykernel' into the Python environment. \n",
      "\u001b[1;31mCommand: '/usr/local/python/current/bin/python -m pip install ipykernel -U --user --force-reinstall'"
     ]
    }
   ],
   "source": [
    "import pandas as pd\n",
    "from pymatgen.core import Composition, Element\n",
    "import numpy as np\n",
    "from sklearn.decomposition import PCA\n",
    "from sklearn.preprocessing import StandardScaler\n",
    "from sklearn.impute import KNNImputer\n",
    "\n",
    "data = pd.read_csv(\"data/hydrogen_database.csv\")\n",
    "\n",
    "# Function to parse composition formula and create a weighted feature vector for each property\n",
    "def featurize_composition(formula):\n",
    "    comp = Composition(formula)\n",
    "    properties = {\n",
    "        'atomic_mass': [],\n",
    "        'atomic_radius': [],\n",
    "        'melting_point': []\n",
    "    }\n",
    "    \n",
    "    element_stoichiometry = {}\n",
    "    total_weight = sum(comp.get_atomic_fraction(e) * e.atomic_mass for e in comp.elements)\n",
    "\n",
    "    for element in comp.elements:\n",
    "        element_stoichiometry[element.symbol] = comp.get_atomic_fraction(element)\n",
    "        weight = comp.get_atomic_fraction(element) * element.atomic_mass / total_weight\n",
    "        for prop in properties:\n",
    "            value = getattr(element, prop, np.nan)\n",
    "            properties[prop].append(value * weight)\n",
    "    \n",
    "    feature_vector = {f'{prop}_weighted': sum(properties[prop]) for prop in properties}\n",
    "    feature_vector.update(element_stoichiometry)\n",
    "\n",
    "    return feature_vector\n",
    "\n",
    "data['features'] = data['Composition_Formula'].apply(featurize_composition)\n",
    "\n",
    "features_df = pd.DataFrame(data['features'].tolist())\n",
    "data = pd.concat([data, features_df], axis=1)\n",
    "data.drop(columns=['features'], inplace=True)\n",
    "\n",
    "keep_columns = [\n",
    "    'Material_Class', 'Composition_Formula', 'Hydrogen_Weight_Percent',\n",
    "    'Heat_of_Formation_kJperMolH2', 'Temperature_oC', 'Pressure_Atmospheres_Absolute',\n",
    "    'Entropy_of_Formation_JperMolH2perK', 'Equilibrium_Pressure_25C', 'LnEquilibrium_Pressure_25C',\n",
    "    'HtoM', 'Reference', 'atomic_mass_weighted', 'atomic_radius_weighted', 'melting_point_weighted'\n",
    "]\n",
    "\n",
    "elemental_columns = [col for col in data.columns if col not in keep_columns and not col.startswith('PC')]\n",
    "\n",
    "data[elemental_columns] = data[elemental_columns].fillna(0)\n",
    "\n",
    "# Standardize the elemental columns for PCA\n",
    "scaler = StandardScaler()\n",
    "elemental_features_scaled = scaler.fit_transform(data[elemental_columns])\n",
    "\n",
    "# Apply PCA\n",
    "pca = PCA(n_components=3) #This is currently hardcoded- need to justify the no. of principal components\n",
    "principal_components = pca.fit_transform(elemental_features_scaled)\n",
    "principal_df = pd.DataFrame(data=principal_components, columns=[f'PC{i+1}' for i in range(3)])\n",
    "\n",
    "data = pd.concat([data, principal_df], axis=1)\n",
    "\n",
    "data.drop(columns=elemental_columns, inplace=True)\n",
    "\n",
    "data.drop('Reference', axis=1, inplace=True)"
   ]
  },
  {
   "cell_type": "code",
   "execution_count": null,
   "metadata": {},
   "outputs": [],
   "source": [
    "# Impute remaining missing values using KNN\n",
    "knn_imputer = KNNImputer(n_neighbors=5)  # Hardcoded- need to justify the choice\n",
    "data_imputed = knn_imputer.fit_transform(data.select_dtypes(include=[np.number]))\n",
    "data[data.select_dtypes(include=[np.number]).columns] = data_imputed\n",
    "\n",
    "data.to_csv(\"PCA_KNN_imputed_hea.csv\", index=False)"
   ]
  }
 ],
 "metadata": {
  "kernelspec": {
   "display_name": ".venv",
   "language": "python",
   "name": "python3"
  },
  "language_info": {
   "codemirror_mode": {
    "name": "ipython",
    "version": 3
   },
   "file_extension": ".py",
   "mimetype": "text/x-python",
   "name": "python",
   "nbconvert_exporter": "python",
   "pygments_lexer": "ipython3",
   "version": "3.9.19"
  }
 },
 "nbformat": 4,
 "nbformat_minor": 2
}
